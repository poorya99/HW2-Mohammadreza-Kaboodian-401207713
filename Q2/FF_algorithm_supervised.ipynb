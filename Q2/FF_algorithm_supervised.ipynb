{
  "nbformat": 4,
  "nbformat_minor": 0,
  "metadata": {
    "colab": {
      "provenance": [],
      "gpuType": "T4"
    },
    "kernelspec": {
      "name": "python3",
      "display_name": "Python 3"
    },
    "language_info": {
      "name": "python"
    },
    "accelerator": "GPU"
  },
  "cells": [
    {
      "cell_type": "code",
      "execution_count": 13,
      "metadata": {
        "id": "oGzXmFUoDxo1"
      },
      "outputs": [],
      "source": [
        "import torch\n",
        "import torch.nn as nn\n",
        "from torchvision.datasets import MNIST\n",
        "from torchvision.transforms import Compose, ToTensor, Normalize, Lambda\n",
        "from torch.utils.data import DataLoader\n",
        "from torch.optim import Adam\n",
        "import matplotlib.pyplot as plt\n",
        "from tqdm import tqdm\n",
        "\n",
        "\n",
        "def MNIST_loaders(train_batch_size=50000, test_batch_size=10000):\n",
        "    transform = Compose([ToTensor(),Normalize((0.1307,), (0.3081,)),Lambda(lambda x: torch.flatten(x))])\n",
        "\n",
        "    train_loader = DataLoader(MNIST('./data/', train=True,download=True,transform=transform),batch_size=train_batch_size, shuffle=True)\n",
        "\n",
        "    test_loader = DataLoader(MNIST('./data/', train=False,download=True,transform=transform),batch_size=test_batch_size, shuffle=False)\n",
        "\n",
        "    return train_loader, test_loader\n",
        "\n"
      ]
    },
    {
      "cell_type": "code",
      "source": [
        "\n",
        "def embed_label_into_data(x, y):\n",
        "    x_ = x.clone()\n",
        "    x_[:, :10] *= 0.0\n",
        "    x_[range(x.shape[0]), y] = x.max()\n",
        "    return x_\n",
        "\n",
        "\n"
      ],
      "metadata": {
        "id": "fknfeE5hD8-J"
      },
      "execution_count": 14,
      "outputs": []
    },
    {
      "cell_type": "code",
      "source": [
        "class Layer(nn.Linear):\n",
        "    def __init__(self, in_features, out_features,\n",
        "                 bias=True, device=None, dtype=None):\n",
        "        super().__init__(in_features, out_features, bias, device, dtype)\n",
        "        self.relu = torch.nn.ReLU()\n",
        "        self.opt = Adam(self.parameters(), lr=0.03)\n",
        "        self.threshold = 2.0\n",
        "        self.num_epochs = 1000\n",
        "\n",
        "    def forward(self, x):\n",
        "        x_direction = x / (x.norm(2, 1, keepdim=True) + 1e-4)\n",
        "        return self.relu(\n",
        "            torch.mm(x_direction, self.weight.T) +\n",
        "            self.bias.unsqueeze(0))\n",
        "\n",
        "    def train(self, x_pos, x_neg):\n",
        "        for i in tqdm(range(self.num_epochs)):\n",
        "            g_pos = self.forward(x_pos).pow(2).mean(1)\n",
        "            g_neg = self.forward(x_neg).pow(2).mean(1)\n",
        "            # optimizing the loss based on a threshold that negative data are below\n",
        "            # and positive data are above that\n",
        "            loss = torch.log(1 + torch.exp(torch.cat([-g_pos + self.threshold,g_neg - self.threshold]))).mean()\n",
        "            self.opt.zero_grad()\n",
        "            loss.backward()\n",
        "            self.opt.step()\n",
        "        return self.forward(x_pos).detach(), self.forward(x_neg).detach()\n"
      ],
      "metadata": {
        "id": "q3I0DDT5xtQO"
      },
      "execution_count": 15,
      "outputs": []
    },
    {
      "cell_type": "code",
      "source": [
        "class Net(torch.nn.Module):\n",
        "\n",
        "    def __init__(self, dims):\n",
        "        super().__init__()\n",
        "        self.layers = []\n",
        "        for d in range(len(dims) - 1):\n",
        "            self.layers.append(Layer(dims[d], dims[d + 1]).cuda())\n",
        "\n",
        "    def predict(self, x):\n",
        "        goodness_per_label = []\n",
        "        for label in range(10):\n",
        "            h = embed_label_into_data(x, label)\n",
        "            goodness = []\n",
        "            for layer in self.layers:\n",
        "                h = layer(h)\n",
        "                goodness += [h.pow(2).mean(1)]\n",
        "\n",
        "            goodness_per_label += [sum(goodness).unsqueeze(1)]\n",
        "        goodness_per_label = torch.cat(goodness_per_label, 1)\n",
        "        print(f'goodness_per_label = {goodness_per_label.argmax(1)}')\n",
        "        return goodness_per_label.argmax(1)\n",
        "\n",
        "    def train(self, x_pos, x_neg):\n",
        "        h_pos, h_neg = x_pos, x_neg\n",
        "        for i, layer in enumerate(self.layers):\n",
        "            print('training layer', i, ':')\n",
        "            h_pos, h_neg = layer.train(h_pos, h_neg)\n"
      ],
      "metadata": {
        "id": "5y3JnIzQESA5"
      },
      "execution_count": 16,
      "outputs": []
    },
    {
      "cell_type": "code",
      "source": [
        "def original_pos_neg_image(x, x_pos, x_neg):\n",
        "  x = x[0].cpu().reshape(28, 28)\n",
        "  x_pos = x_pos[0].cpu().reshape(28, 28)\n",
        "  x_neg = x_neg[0].cpu().reshape(28, 28)\n",
        "\n",
        "  i=1\n",
        "  for data, name in zip([x, x_pos, x_neg], ['original', 'pos', 'neg']):\n",
        "    plt.subplot(1,3,i)\n",
        "    i+=1\n",
        "    plt.title(name)\n",
        "    plt.imshow(data, cmap=\"gray\")\n",
        "  plt.show()"
      ],
      "metadata": {
        "id": "96mr1GfTERlw"
      },
      "execution_count": 17,
      "outputs": []
    },
    {
      "cell_type": "code",
      "source": [
        "\n",
        "torch.manual_seed(0)\n",
        "train_loader, test_loader = MNIST_loaders()\n",
        "\n",
        "net = Net([784, 600, 500, 400])   #layers of the network\n",
        "x, y = next(iter(train_loader))\n",
        "x, y = x.cuda(), y.cuda()\n"
      ],
      "metadata": {
        "id": "B7y-r6B11sHe"
      },
      "execution_count": 18,
      "outputs": []
    },
    {
      "cell_type": "code",
      "source": [
        "x_pos = embed_label_into_data(x, y)\n",
        "\n",
        "# adding the label with modulo that makes the label\n",
        "#  something other than the original label\n",
        "randint1 = torch.randint(1, 10, y.shape, device = 'cuda')\n",
        "y_neg = torch.remainder(y + randint1, 10)\n",
        "x_neg = embed_label_into_data(x, y_neg)\n",
        "\n",
        "print(x.shape)\n",
        "\n",
        "# plt.imshow(x_neg[1,:].reshape(28,28).cpu(), cmap=\"gray\")\n",
        "# plt.show()\n",
        "\n",
        "# plt.imshow(x_neg[55,:].reshape(28,28).cpu(), cmap=\"gray\")\n",
        "# plt.show()\n",
        "\n",
        "original_pos_neg_image(x, x_pos, x_neg)\n",
        "\n",
        "net.train(x_pos, x_neg)\n",
        "\n",
        "print('train accuracy = ', net.predict(x).eq(y).float().mean().item())\n",
        "\n",
        "x_test, y_test = next(iter(test_loader))\n",
        "x_test, y_test = x_test.cuda(), y_test.cuda()\n",
        "\n",
        "print('test accuracy = ', net.predict(x_test).eq(y_test).float().mean().item())\n"
      ],
      "metadata": {
        "id": "acZLL4n_7R8v",
        "colab": {
          "base_uri": "https://localhost:8080/",
          "height": 419
        },
        "outputId": "1cf13a50-bd5f-4fe0-904b-1419ef54b4f3"
      },
      "execution_count": 19,
      "outputs": [
        {
          "output_type": "stream",
          "name": "stdout",
          "text": [
            "torch.Size([50000, 784])\n"
          ]
        },
        {
          "output_type": "display_data",
          "data": {
            "text/plain": [
              "<Figure size 640x480 with 3 Axes>"
            ],
            "image/png": "[encoded data removed]"
          },
          "metadata": {}
        },
        {
          "output_type": "stream",
          "name": "stdout",
          "text": [
            "training layer 0 :\n"
          ]
        },
        {
          "output_type": "stream",
          "name": "stderr",
          "text": [
            "100%|██████████| 1000/1000 [01:09<00:00, 14.45it/s]\n"
          ]
        },
        {
          "output_type": "stream",
          "name": "stdout",
          "text": [
            "training layer 1 :\n"
          ]
        },
        {
          "output_type": "stream",
          "name": "stderr",
          "text": [
            "100%|██████████| 1000/1000 [00:47<00:00, 20.93it/s]\n"
          ]
        },
        {
          "output_type": "stream",
          "name": "stdout",
          "text": [
            "training layer 2 :\n"
          ]
        },
        {
          "output_type": "stream",
          "name": "stderr",
          "text": [
            "100%|██████████| 1000/1000 [00:36<00:00, 27.23it/s]\n"
          ]
        },
        {
          "output_type": "stream",
          "name": "stdout",
          "text": [
            "goodness_per_label = tensor([6, 3, 1,  ..., 7, 7, 3], device='cuda:0')\n",
            "train accuracy =  0.914900004863739\n",
            "goodness_per_label = tensor([7, 2, 1,  ..., 4, 5, 6], device='cuda:0')\n",
            "test accuracy =  0.9192999601364136\n"
          ]
        }
      ]
    },
    {
      "cell_type": "code",
      "source": [],
      "metadata": {
        "id": "UEjzi0Ctzc4S"
      },
      "execution_count": 19,
      "outputs": []
    }
  ]
}