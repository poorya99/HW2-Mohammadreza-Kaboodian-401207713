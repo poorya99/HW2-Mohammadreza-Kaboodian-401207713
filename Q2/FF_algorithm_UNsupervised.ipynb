{
  "nbformat": 4,
  "nbformat_minor": 0,
  "metadata": {
    "colab": {
      "provenance": [],
      "gpuType": "T4"
    },
    "kernelspec": {
      "name": "python3",
      "display_name": "Python 3"
    },
    "language_info": {
      "name": "python"
    },
    "accelerator": "GPU"
  },
  "cells": [
    {
      "cell_type": "code",
      "execution_count": 61,
      "metadata": {
        "id": "oGzXmFUoDxo1"
      },
      "outputs": [],
      "source": [
        "import torch\n",
        "import torch.nn as nn\n",
        "from torchvision.datasets import MNIST\n",
        "from torchvision.transforms import Compose, ToTensor, Normalize, Lambda\n",
        "from torch.utils.data import DataLoader\n",
        "from torch.optim import Adam\n",
        "import matplotlib.pyplot as plt\n",
        "from tqdm import tqdm\n",
        "\n",
        "\n",
        "\n",
        "\n",
        "def MNIST_loaders(train_batch_size=50000, test_batch_size=10000):\n",
        "    transform = Compose([ToTensor(),Normalize((0.1307,), (0.3081,)),Lambda(lambda x: torch.flatten(x))])\n",
        "\n",
        "    train_loader = DataLoader(MNIST('./data/', train=True,download=True,transform=transform),batch_size=train_batch_size, shuffle=True)\n",
        "\n",
        "    test_loader = DataLoader(MNIST('./data/', train=False,download=True,transform=transform),batch_size=test_batch_size, shuffle=False)\n",
        "\n",
        "    return train_loader, test_loader\n",
        "\n"
      ]
    },
    {
      "cell_type": "code",
      "source": [
        "def label_to_oh(y):\n",
        "    ohe = torch.zeros(y.shape[0],10)\n",
        "    for i in range(ohe.shape[0]):\n",
        "      ohe[i,y[i]] = 1\n",
        "    return ohe"
      ],
      "metadata": {
        "id": "5y3JnIzQESA5"
      },
      "execution_count": 63,
      "outputs": []
    },
    {
      "cell_type": "code",
      "source": [
        "class Layer(nn.Linear):\n",
        "    def __init__(self, in_features, out_features,\n",
        "                 bias=True, device=None, dtype=None):\n",
        "        super().__init__(in_features, out_features, bias, device, dtype)\n",
        "        self.relu = torch.nn.ReLU()\n",
        "        self.opt = Adam(self.parameters(), lr=0.03)\n",
        "        self.threshold = 2.0\n",
        "        self.num_epochs = 1000\n",
        "\n",
        "    def forward(self, x):\n",
        "        x_direction = x / (x.norm(2, 1, keepdim=True) + 1e-4)\n",
        "        return self.relu(torch.mm(x_direction, self.weight.T) + self.bias.unsqueeze(0))\n",
        "\n",
        "    def train(self, x_pos, x_neg):\n",
        "        for i in tqdm(range(self.num_epochs)):\n",
        "            g_pos = self.forward(x_pos).pow(2).mean(1)\n",
        "            g_neg = self.forward(x_neg).pow(2).mean(1)\n",
        "            loss = torch.log(1 + torch.exp(torch.cat([-g_pos + self.threshold,g_neg - self.threshold]))).mean()\n",
        "            self.opt.zero_grad()\n",
        "            loss.backward()\n",
        "            self.opt.step()\n",
        "        return self.forward(x_pos).detach(), self.forward(x_neg).detach()\n",
        "\n",
        "\n"
      ],
      "metadata": {
        "id": "NeH9T59nERzW"
      },
      "execution_count": 64,
      "outputs": []
    },
    {
      "cell_type": "code",
      "source": [
        "class Net(torch.nn.Module):\n",
        "\n",
        "    def __init__(self, dims):\n",
        "        super().__init__()\n",
        "        self.layers = []\n",
        "        self.output_neurons = sum(dims[1:])\n",
        "        for d in range(len(dims) - 1):\n",
        "            self.layers += [Layer(dims[d], dims[d + 1]).cuda()]\n",
        "\n",
        "    def predict(self, x):\n",
        "        layers_output = torch.Tensor([]).cuda()\n",
        "        h = x\n",
        "        for i, layer in enumerate(self.layers):\n",
        "            h = layer(h)\n",
        "            layers_output = torch.cat([layers_output,h],1)\n",
        "        # print(\"layers_output = \", layers_output.shape)\n",
        "        return layers_output\n",
        "\n",
        "    def train(self, x_pos, x_neg):\n",
        "        h_pos, h_neg = x_pos, x_neg\n",
        "        for i, layer in enumerate(self.layers):\n",
        "            print('training layer', i)\n",
        "            h_pos, h_neg = layer.train(h_pos, h_neg)\n"
      ],
      "metadata": {
        "id": "0pwSHjt2-zPS"
      },
      "execution_count": 72,
      "outputs": []
    },
    {
      "cell_type": "code",
      "source": [
        "class LinearClassifier(torch.nn.Module):\n",
        "  def __init__(self, lin_classifier_input_dimension,model):\n",
        "    super().__init__()\n",
        "    self.linear = torch.nn.Linear(lin_classifier_input_dimension, 10).cuda()\n",
        "    self.optimizer = SGD(self.parameters(), lr=0.03)\n",
        "    self.criterion = nn.CrossEntropyLoss()\n",
        "    self.softmax = nn.Softmax()\n",
        "    self.model = model\n",
        "\n",
        "  def forward(self, x):\n",
        "    return self.linear(x)\n",
        "\n",
        "  def train(self, x, y, num_epoch):\n",
        "\n",
        "    for j in tqdm(range(num_epoch)):\n",
        "      y_tr = label_to_oh(y).cuda()\n",
        "      ff_unsupervised = self.model.predict(x)\n",
        "      y_hat = self.forward(ff_unsupervised)\n",
        "      loss = self.criterion(y_hat,y_tr)\n",
        "      self.optimizer.zero_grad()\n",
        "      loss.backward()\n",
        "      self.optimizer.step()\n",
        "\n",
        "\n",
        "  def test(self, x):\n",
        "    ff_unsupervised = self.model.predict(x)\n",
        "    y_hat = self.forward(ff_unsupervised)\n",
        "    y_hat = torch.argmax(y_hat, dim=1)\n",
        "    return y_hat\n"
      ],
      "metadata": {
        "id": "Qeq1Dfwh9vy0"
      },
      "execution_count": 110,
      "outputs": []
    },
    {
      "cell_type": "code",
      "source": [
        "def original_pos_neg_image(x, x_pos, x_neg):\n",
        "  x = x[0].cpu().reshape(28, 28)\n",
        "  x_pos = x_pos[0].cpu().reshape(28, 28)\n",
        "  x_neg = x_neg[0].cpu().reshape(28, 28)\n",
        "\n",
        "  i=1\n",
        "  for data, name in zip([x, x_pos, x_neg], ['original', 'pos', 'neg']):\n",
        "    plt.subplot(1,3,i)\n",
        "    i+=1\n",
        "    plt.title(name)\n",
        "    plt.imshow(data, cmap=\"gray\")\n",
        "  plt.show()\n",
        "\n",
        "\n",
        ""
      ],
      "metadata": {
        "id": "96mr1GfTERlw"
      },
      "execution_count": 136,
      "outputs": []
    },
    {
      "cell_type": "code",
      "source": [
        "\n",
        "# making random masks :\n",
        "# we generate some random points in a 28*28 tensor then we\n",
        "# fill between them with thick lines\n",
        "x = torch.zeros(60000,28,28).cuda()\n",
        "num_samp = 2000\n",
        "mask = torch.zeros(50000,28,28).cuda()\n",
        "num_random_points = 6\n",
        "random_points = torch.randint(3,25,[x.size(0),num_random_points, 2],dtype=torch.int8).cuda()\n",
        "random_points1 = torch.cat( (13+random_points[:num_samp,2,1].reshape(-1,1)//2,2+random_points[:num_samp,0,0].reshape(-1,1)),1)\n",
        "random_points2 = torch.cat((2+random_points[:num_samp,1,1].reshape(-1,1),13+random_points[:num_samp,1,0].reshape(-1,1)//2),1)\n",
        "random_points3 = torch.cat((2+random_points[:num_samp,0,1].reshape(-1,1)//2,2+random_points[:num_samp,0,0].reshape(-1,1)//2),1)\n",
        "random_points4 = random_points[:num_samp,3:6,:]\n",
        "random_points = torch.cat((random_points1.reshape(-1,1,2), random_points2.reshape(-1,1,2), random_points3.reshape(-1,1,2), random_points4), 1)\n",
        "# print(random_points)\n",
        "mat = torch.randint(6,23,[5,2, 2]).cuda()\n",
        "\n",
        "for i in range(num_samp):\n",
        "  for rnd_pt_x1, rnd_pt_x2 in random_points[i,:,:]:\n",
        "    # print(rnd_pt_x1,rnd_pt_x2)\n",
        "    # print(type(rnd_pt_x1.item()),type(rnd_pt_x1.item()))\n",
        "    mask[i, rnd_pt_x1, rnd_pt_x2] = 1\n",
        "\n",
        "# plt.imshow(mask[0,:,:].cpu(), cmap=\"gray\")\n",
        "# plt.show()\n",
        "\n",
        "# plt.imshow(mask[1,:,:].cpu(), cmap=\"gray\")\n",
        "# plt.show()\n",
        "\n",
        "print(\"generating random masks:\")\n",
        "\n",
        "for j in tqdm(range(num_samp)):\n",
        "  random_point = random_points[j,:,:]\n",
        "  for i,(pt_x1, pt_y1) in enumerate(random_point[1:]):\n",
        "    (pt_x0, pt_y0) = random_point[i,:]\n",
        "    m = (pt_y1-pt_y0)/(pt_x1-pt_x0)\n",
        "    d = pt_y1-m*pt_x1\n",
        "    # print(\"*\"*20, pt_x1, pt_y1)\n",
        "    for x_ in range(min(pt_x0,pt_x1), max(pt_x0,pt_x1)+1):\n",
        "      for y_ in range(min(pt_y0,pt_y1), max(pt_y0,pt_y1)+1):\n",
        "        # print(x_,y_)\n",
        "        if abs(y_ -m * x_ - d) < 3 :  # or torch.pow(x_-pt_x0,2)+torch.pow(y_-pt_y0,2)<37\n",
        "          mask[j,x_,y_] = 1\n",
        "# plt.imshow(mask[0,:,:].cpu(), cmap=\"gray\")\n",
        "# plt.show()\n",
        "\n",
        "# plt.imshow(mask[1,:,:].cpu(), cmap=\"gray\")\n",
        "# plt.show()\n",
        "final_mask = torch.zeros(2000,28*28).cuda()\n",
        "sum_mas = torch.sum(mask.reshape(-1,28*28),1)\n",
        "ptr = 0\n",
        "for i in range(len(final_mask)):\n",
        "  # print(sum_mas[i])\n",
        "  if 30<sum_mas[i]<160:\n",
        "    final_mask[ptr,:] = mask[i,:,:].flatten()\n",
        "    ptr+=1\n",
        "i=0\n",
        "while ptr<2000:\n",
        "  final_mask[ptr,:] = mask[i,:,:].flatten()\n",
        "  i+=1\n",
        "  ptr+=1\n",
        "\n",
        "for i in range(16):\n",
        "  plt.subplot(4,4,i+1)\n",
        "  plt.imshow(mask[i,:,:].cpu())\n",
        "final_mask = final_mask.repeat(25,1)\n",
        "rp = torch.randperm(50000)\n",
        "final_mask = final_mask[rp,:]"
      ],
      "metadata": {
        "id": "vNgvL_JoNlVr",
        "outputId": "b6331e9d-3f0b-4ccb-a0d7-da9677c4f747",
        "colab": {
          "base_uri": "https://localhost:8080/",
          "height": 469
        }
      },
      "execution_count": 105,
      "outputs": [
        {
          "output_type": "stream",
          "name": "stdout",
          "text": [
            "generating random masks:\n"
          ]
        },
        {
          "output_type": "stream",
          "name": "stderr",
          "text": [
            "100%|██████████| 2000/2000 [01:21<00:00, 24.61it/s]\n"
          ]
        },
        {
          "output_type": "display_data",
          "data": {
            "text/plain": [
              "<Figure size 640x480 with 16 Axes>"
            ],
            "image/png": "[encoded data removed]"
          },
          "metadata": {}
        }
      ]
    },
    {
      "cell_type": "code",
      "source": [
        "\n",
        "torch.manual_seed(0)\n",
        "train_loader, test_loader = MNIST_loaders()\n",
        "\n",
        "x, y = next(iter(train_loader))\n",
        "x, y = x.cuda(), y.cuda()\n",
        "\n",
        "rnd1 = torch.randperm(x.size(0))\n",
        "rnd2 = torch.randperm(x.size(0))\n",
        "x_pos = x\n",
        "x_neg = x * final_mask + (1-final_mask) * x[rnd2,:]\n",
        "\n",
        "print(x.shape)\n",
        "\n",
        "# plt.imshow(x_neg[1,:].reshape(28,28).cpu(), cmap=\"gray\")\n",
        "# plt.show()\n",
        "\n",
        "# plt.imshow(x_neg[55,:].reshape(28,28).cpu(), cmap=\"gray\")\n",
        "# plt.show()\n"
      ],
      "metadata": {
        "id": "B7y-r6B11sHe",
        "outputId": "5be942c7-d17a-4f01-c52d-f8f360e26f3e",
        "colab": {
          "base_uri": "https://localhost:8080/"
        }
      },
      "execution_count": 128,
      "outputs": [
        {
          "output_type": "stream",
          "name": "stdout",
          "text": [
            "torch.Size([50000, 784])\n"
          ]
        }
      ]
    },
    {
      "cell_type": "code",
      "source": [
        "\n",
        "net = Net([784, 500, 500,500])\n",
        "original_pos_neg_image(x, x_pos, x_neg)\n",
        "\n",
        "\n",
        "net.train(x_pos, x_neg)\n"
      ],
      "metadata": {
        "colab": {
          "base_uri": "https://localhost:8080/",
          "height": 332
        },
        "id": "kQ1GFCvDWdMy",
        "outputId": "dac24f9a-6042-4266-8184-fa997fa13435"
      },
      "execution_count": 129,
      "outputs": [
        {
          "output_type": "display_data",
          "data": {
            "text/plain": [
              "<Figure size 640x480 with 3 Axes>"
            ],
            "image/png": "[encoded data removed]"
          },
          "metadata": {}
        },
        {
          "output_type": "stream",
          "name": "stdout",
          "text": [
            "training layer 0 ...\n"
          ]
        },
        {
          "output_type": "stream",
          "name": "stderr",
          "text": [
            "100%|██████████| 1000/1000 [01:04<00:00, 15.60it/s]\n"
          ]
        },
        {
          "output_type": "stream",
          "name": "stdout",
          "text": [
            "training layer 1 ...\n"
          ]
        },
        {
          "output_type": "stream",
          "name": "stderr",
          "text": [
            "100%|██████████| 1000/1000 [00:40<00:00, 24.51it/s]\n"
          ]
        },
        {
          "output_type": "stream",
          "name": "stdout",
          "text": [
            "training layer 2 ...\n"
          ]
        },
        {
          "output_type": "stream",
          "name": "stderr",
          "text": [
            "100%|██████████| 1000/1000 [00:41<00:00, 24.38it/s]\n"
          ]
        }
      ]
    },
    {
      "cell_type": "code",
      "source": [
        "epochs = 100\n",
        "ff_output_neurons = net.output_neurons\n",
        "\n",
        "linear_classifier = LinearClassifier(ff_output_neurons, net)\n",
        "print(\"training the final linear classifier\")\n",
        "linear_classifier.train(x,y,epochs)"
      ],
      "metadata": {
        "colab": {
          "base_uri": "https://localhost:8080/"
        },
        "id": "jYjlO-zEUTHX",
        "outputId": "a372c4b1-08cb-40da-ebb0-389626b5c290"
      },
      "execution_count": 131,
      "outputs": [
        {
          "output_type": "stream",
          "name": "stdout",
          "text": [
            "training the final linear classifier\n"
          ]
        },
        {
          "output_type": "stream",
          "name": "stderr",
          "text": [
            "100%|██████████| 100/100 [02:11<00:00,  1.31s/it]\n"
          ]
        },
        {
          "output_type": "stream",
          "name": "stdout",
          "text": [
            "training the final linear classifier\n"
          ]
        },
        {
          "output_type": "stream",
          "name": "stderr",
          "text": [
            "\r  0%|          | 0/100 [00:00<?, ?it/s]"
          ]
        }
      ]
    },
    {
      "cell_type": "code",
      "source": [
        "print('train accuracy:', linear_classifier.test(x).eq(y).float().mean().item())\n",
        "\n",
        "\n",
        "x_test, y_test = next(iter(test_loader))\n",
        "x_test, y_test = x_test.cuda(), y_test.cuda()\n",
        "\n",
        "print('test accuracy:', linear_classifier.test(x_test).eq(y_test).float().mean().item())"
      ],
      "metadata": {
        "colab": {
          "base_uri": "https://localhost:8080/"
        },
        "id": "chj9-t_VMCFc",
        "outputId": "bdbcedff-2aff-4cba-af95-40c08d2011c4"
      },
      "execution_count": 135,
      "outputs": [
        {
          "output_type": "stream",
          "name": "stdout",
          "text": [
            "train accuracy: 0.9170599579811096\n",
            "test accuracy: 0.9170999526977539\n"
          ]
        }
      ]
    },
    {
      "cell_type": "code",
      "source": [],
      "metadata": {
        "id": "ri72Gw8ulN6X"
      },
      "execution_count": null,
      "outputs": []
    }
  ]
}